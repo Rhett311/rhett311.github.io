{
 "cells": [
  {
   "cell_type": "markdown",
   "id": "bedcde6a",
   "metadata": {},
   "source": [
    "# Data Science Tools & Ecosystem"
   ]
  },
  {
   "cell_type": "markdown",
   "id": "39172675",
   "metadata": {},
   "source": [
    "In this notebook, Data SCience Tools and Ecosystem are summarised."
   ]
  },
  {
   "cell_type": "markdown",
   "id": "9b5f2c89",
   "metadata": {},
   "source": [
    "Some of the popular languages that Data Scientists use are:"
   ]
  },
  {
   "cell_type": "markdown",
   "id": "8bc9dd79",
   "metadata": {},
   "source": [
    "1. Python\n",
    "2. R\n",
    "3. C++"
   ]
  },
  {
   "cell_type": "markdown",
   "id": "1378ec6c",
   "metadata": {},
   "source": [
    "Some of the common libraries used by Data Scientists include:\n",
    "1. Pandas\n",
    "2. Numpy\n",
    "3. Scipy\n"
   ]
  },
  {
   "cell_type": "markdown",
   "id": "f0c07b93",
   "metadata": {},
   "source": [
    "| Data Science Tools |\n",
    "|--------------------|\n",
    "| My SQL |\n",
    "| Hadoop |\n",
    "| Apache Spark |"
   ]
  },
  {
   "cell_type": "markdown",
   "id": "35a2551f",
   "metadata": {},
   "source": [
    "Below are a few examples of evaluating arithmetic expressions in python"
   ]
  },
  {
   "cell_type": "markdown",
   "id": "dfeff6b8",
   "metadata": {},
   "source": [
    "This is a simple arithmetic expression to multiply & add integers"
   ]
  },
  {
   "cell_type": "code",
   "execution_count": 1,
   "id": "77f58cb7",
   "metadata": {},
   "outputs": [
    {
     "data": {
      "text/plain": [
       "17"
      ]
     },
     "execution_count": 1,
     "metadata": {},
     "output_type": "execute_result"
    }
   ],
   "source": [
    "(3*4)+5"
   ]
  },
  {
   "cell_type": "markdown",
   "id": "bf355710",
   "metadata": {},
   "source": [
    "This will convert minutes to hours"
   ]
  },
  {
   "cell_type": "markdown",
   "id": "7e434a56",
   "metadata": {},
   "source": [
    "x=200\n",
    "print (x/60)"
   ]
  },
  {
   "cell_type": "markdown",
   "id": "6a3f0bde",
   "metadata": {},
   "source": [
    "**Objectives:**"
   ]
  },
  {
   "cell_type": "markdown",
   "id": "2947573c",
   "metadata": {},
   "source": [
    "- List popular languages for data science.\n",
    "- List some common libraries for data science.\n",
    "- List common data science tools.\n",
    "- Show simplke arithmetic."
   ]
  },
  {
   "cell_type": "markdown",
   "id": "02335cb1",
   "metadata": {},
   "source": [
    "## Author\n",
    "Rhett Barber"
   ]
  },
  {
   "cell_type": "code",
   "execution_count": null,
   "id": "cca9223d",
   "metadata": {},
   "outputs": [],
   "source": []
  }
 ],
 "metadata": {
  "kernelspec": {
   "display_name": "Python 3 (ipykernel)",
   "language": "python",
   "name": "python3"
  },
  "language_info": {
   "codemirror_mode": {
    "name": "ipython",
    "version": 3
   },
   "file_extension": ".py",
   "mimetype": "text/x-python",
   "name": "python",
   "nbconvert_exporter": "python",
   "pygments_lexer": "ipython3",
   "version": "3.11.4"
  }
 },
 "nbformat": 4,
 "nbformat_minor": 5
}
